{
 "cells": [
  {
   "cell_type": "code",
   "execution_count": 1,
   "metadata": {},
   "outputs": [
    {
     "name": "stdout",
     "output_type": "stream",
     "text": [
      "text='Tell me a joke about cats'\n"
     ]
    }
   ],
   "source": [
    "from langchain_core.prompts import PromptTemplate\n",
    "\n",
    "prompt_template = PromptTemplate.from_template(\"Tell me a joke about {topic}\")\n",
    "print(prompt_template.invoke({\"topic\": \"cats\"}))"
   ]
  },
  {
   "cell_type": "code",
   "execution_count": 5,
   "metadata": {},
   "outputs": [
    {
     "name": "stdout",
     "output_type": "stream",
     "text": [
      "Requirement already satisfied: langchain-core in /Users/dogukanince/miniforge3/envs/test_env/lib/python3.12/site-packages (0.1.43)\n",
      "Requirement already satisfied: PyYAML>=5.3 in /Users/dogukanince/miniforge3/envs/test_env/lib/python3.12/site-packages (from langchain-core) (6.0.1)\n",
      "Requirement already satisfied: jsonpatch<2.0,>=1.33 in /Users/dogukanince/miniforge3/envs/test_env/lib/python3.12/site-packages (from langchain-core) (1.33)\n",
      "Requirement already satisfied: langsmith<0.2.0,>=0.1.0 in /Users/dogukanince/miniforge3/envs/test_env/lib/python3.12/site-packages (from langchain-core) (0.1.48)\n",
      "Requirement already satisfied: packaging<24.0,>=23.2 in /Users/dogukanince/miniforge3/envs/test_env/lib/python3.12/site-packages (from langchain-core) (23.2)\n",
      "Requirement already satisfied: pydantic<3,>=1 in /Users/dogukanince/miniforge3/envs/test_env/lib/python3.12/site-packages (from langchain-core) (2.7.0)\n",
      "Requirement already satisfied: tenacity<9.0.0,>=8.1.0 in /Users/dogukanince/miniforge3/envs/test_env/lib/python3.12/site-packages (from langchain-core) (8.2.3)\n",
      "Requirement already satisfied: jsonpointer>=1.9 in /Users/dogukanince/miniforge3/envs/test_env/lib/python3.12/site-packages (from jsonpatch<2.0,>=1.33->langchain-core) (2.4)\n",
      "Requirement already satisfied: orjson<4.0.0,>=3.9.14 in /Users/dogukanince/miniforge3/envs/test_env/lib/python3.12/site-packages (from langsmith<0.2.0,>=0.1.0->langchain-core) (3.10.1)\n",
      "Requirement already satisfied: requests<3,>=2 in /Users/dogukanince/miniforge3/envs/test_env/lib/python3.12/site-packages (from langsmith<0.2.0,>=0.1.0->langchain-core) (2.31.0)\n",
      "Requirement already satisfied: annotated-types>=0.4.0 in /Users/dogukanince/miniforge3/envs/test_env/lib/python3.12/site-packages (from pydantic<3,>=1->langchain-core) (0.6.0)\n",
      "Requirement already satisfied: pydantic-core==2.18.1 in /Users/dogukanince/miniforge3/envs/test_env/lib/python3.12/site-packages (from pydantic<3,>=1->langchain-core) (2.18.1)\n",
      "Requirement already satisfied: typing-extensions>=4.6.1 in /Users/dogukanince/miniforge3/envs/test_env/lib/python3.12/site-packages (from pydantic<3,>=1->langchain-core) (4.9.0)\n",
      "Requirement already satisfied: charset-normalizer<4,>=2 in /Users/dogukanince/miniforge3/envs/test_env/lib/python3.12/site-packages (from requests<3,>=2->langsmith<0.2.0,>=0.1.0->langchain-core) (2.0.4)\n",
      "Requirement already satisfied: idna<4,>=2.5 in /Users/dogukanince/miniforge3/envs/test_env/lib/python3.12/site-packages (from requests<3,>=2->langsmith<0.2.0,>=0.1.0->langchain-core) (3.4)\n",
      "Requirement already satisfied: urllib3<3,>=1.21.1 in /Users/dogukanince/miniforge3/envs/test_env/lib/python3.12/site-packages (from requests<3,>=2->langsmith<0.2.0,>=0.1.0->langchain-core) (2.1.0)\n",
      "Requirement already satisfied: certifi>=2017.4.17 in /Users/dogukanince/miniforge3/envs/test_env/lib/python3.12/site-packages (from requests<3,>=2->langsmith<0.2.0,>=0.1.0->langchain-core) (2024.2.2)\n",
      "messages=[SystemMessage(content='You are a helpful assistant.'), HumanMessage(content='Tell me a joke about {topic}.')]\n"
     ]
    }
   ],
   "source": [
    "from langchain_core.prompts import ChatPromptTemplate\n",
    "!pip install langchain-core\n",
    "from langchain_core.messages import SystemMessage, HumanMessage\n",
    "\n",
    "chat_prompt_template = ChatPromptTemplate.from_messages([\n",
    "\n",
    "    SystemMessage(content=\"You are a helpful assistant.\"),\n",
    "    HumanMessage(content=\"Tell me a joke about {topic}.\")\n",
    "])\n",
    "\n",
    "print(chat_prompt_template.invoke({\"topic\": \"cats\"}))"
   ]
  },
  {
   "cell_type": "code",
   "execution_count": 7,
   "metadata": {},
   "outputs": [
    {
     "data": {
      "text/plain": [
       "ChatPromptValue(messages=[SystemMessage(content='You are a helpful assistant.'), HumanMessage(content='Hi')])"
      ]
     },
     "execution_count": 7,
     "metadata": {},
     "output_type": "execute_result"
    }
   ],
   "source": [
    "from langchain_core.prompts import ChatPromptTemplate, MessagesPlaceholder\n",
    "from langchain_core.messages import HumanMessage, SystemMessage\n",
    "\n",
    "message_prompt_template = ChatPromptTemplate.from_messages([\n",
    "\n",
    "    SystemMessage(content=\"You are a helpful assistant.\"),\n",
    "    MessagesPlaceholder(variable_name=\"messages\")\n",
    "])\n",
    "\n",
    "message_prompt_template.invoke({\"messages\": [HumanMessage(content=\"Hi\")]})"
   ]
  },
  {
   "cell_type": "code",
   "execution_count": 8,
   "metadata": {},
   "outputs": [],
   "source": [
    "examples = [\n",
    "    {\n",
    "        \"question\": \"Who lived longer, Muhammad Ali or Alan Turing?\",\n",
    "        \"answer\": \"\"\"\n",
    "Are follow up questions needed here: Yes.\n",
    "Follow up: How old was Muhammad Ali when he died?\n",
    "Intermediate answer: Muhammad Ali was 74 years old when he died.\n",
    "Follow up: How old was Alan Turing when he died?\n",
    "Intermediate answer: Alan Turing was 41 years old when he died.\n",
    "So the final answer is: Muhammad Ali\n",
    "\"\"\",\n",
    "    },\n",
    "    {\n",
    "        \"question\": \"When was the founder of craigslist born?\",\n",
    "        \"answer\": \"\"\"\n",
    "Are follow up questions needed here: Yes.\n",
    "Follow up: Who was the founder of craigslist?\n",
    "Intermediate answer: Craigslist was founded by Craig Newmark.\n",
    "Follow up: When was Craig Newmark born?\n",
    "Intermediate answer: Craig Newmark was born on December 6, 1952.\n",
    "So the final answer is: December 6, 1952\n",
    "\"\"\",\n",
    "    },\n",
    "    {\n",
    "        \"question\": \"Who was the maternal grandfather of George Washington?\",\n",
    "        \"answer\": \"\"\"\n",
    "Are follow up questions needed here: Yes.\n",
    "Follow up: Who was the mother of George Washington?\n",
    "Intermediate answer: The mother of George Washington was Mary Ball Washington.\n",
    "Follow up: Who was the father of Mary Ball Washington?\n",
    "Intermediate answer: The father of Mary Ball Washington was Joseph Ball.\n",
    "So the final answer is: Joseph Ball\n",
    "\"\"\",\n",
    "    },\n",
    "    {\n",
    "        \"question\": \"Are both the directors of Jaws and Casino Royale from the same country?\",\n",
    "        \"answer\": \"\"\"\n",
    "Are follow up questions needed here: Yes.\n",
    "Follow up: Who is the director of Jaws?\n",
    "Intermediate Answer: The director of Jaws is Steven Spielberg.\n",
    "Follow up: Where is Steven Spielberg from?\n",
    "Intermediate Answer: The United States.\n",
    "Follow up: Who is the director of Casino Royale?\n",
    "Intermediate Answer: The director of Casino Royale is Martin Campbell.\n",
    "Follow up: Where is Martin Campbell from?\n",
    "Intermediate Answer: New Zealand.\n",
    "So the final answer is: No\n",
    "\"\"\",\n",
    "    },\n",
    "]"
   ]
  },
  {
   "cell_type": "code",
   "execution_count": 19,
   "metadata": {},
   "outputs": [
    {
     "data": {
      "text/plain": [
       "StringPromptValue(text='\\nQuestion: Who lived longer, Muhammad Ali or Alan Turing?\\nAnswer: \\nAre follow up questions needed here: Yes.\\nFollow up: How old was Muhammad Ali when he died?\\nIntermediate answer: Muhammad Ali was 74 years old when he died.\\nFollow up: How old was Alan Turing when he died?\\nIntermediate answer: Alan Turing was 41 years old when he died.\\nSo the final answer is: Muhammad Ali\\n\\n\\n\\n\\nQuestion: When was the founder of craigslist born?\\nAnswer: \\nAre follow up questions needed here: Yes.\\nFollow up: Who was the founder of craigslist?\\nIntermediate answer: Craigslist was founded by Craig Newmark.\\nFollow up: When was Craig Newmark born?\\nIntermediate answer: Craig Newmark was born on December 6, 1952.\\nSo the final answer is: December 6, 1952\\n\\n\\n\\n\\nQuestion: Who was the maternal grandfather of George Washington?\\nAnswer: \\nAre follow up questions needed here: Yes.\\nFollow up: Who was the mother of George Washington?\\nIntermediate answer: The mother of George Washington was Mary Ball Washington.\\nFollow up: Who was the father of Mary Ball Washington?\\nIntermediate answer: The father of Mary Ball Washington was Joseph Ball.\\nSo the final answer is: Joseph Ball\\n\\n\\n\\n\\nQuestion: Are both the directors of Jaws and Casino Royale from the same country?\\nAnswer: \\nAre follow up questions needed here: Yes.\\nFollow up: Who is the director of Jaws?\\nIntermediate Answer: The director of Jaws is Steven Spielberg.\\nFollow up: Where is Steven Spielberg from?\\nIntermediate Answer: The United States.\\nFollow up: Who is the director of Casino Royale?\\nIntermediate Answer: The director of Casino Royale is Martin Campbell.\\nFollow up: Where is Martin Campbell from?\\nIntermediate Answer: New Zealand.\\nSo the final answer is: No\\n\\n\\n\\nQuestion : Who was the maternal grandfather of George Washington?')"
      ]
     },
     "execution_count": 19,
     "metadata": {},
     "output_type": "execute_result"
    }
   ],
   "source": [
    "from langchain_core.prompts import FewShotPromptTemplate, PromptTemplate\n",
    "\n",
    "example_prompt = PromptTemplate.from_template(\"\"\"\n",
    "Question: {question}\n",
    "Answer: {answer}\n",
    "\"\"\")\n",
    "\n",
    "prompt = FewShotPromptTemplate(\n",
    "    examples=examples,\n",
    "    example_prompt=example_prompt,\n",
    "    suffix=\"Question : {input}\",\n",
    "    input_variables=[\"input\"],    \n",
    ")\n",
    "\n",
    "prompt.invoke({\"input\": \"Who was the maternal grandfather of George Washington?\"})\n"
   ]
  },
  {
   "cell_type": "code",
   "execution_count": 29,
   "metadata": {},
   "outputs": [
    {
     "name": "stdout",
     "output_type": "stream",
     "text": [
      "Requirement already satisfied: langchain_groq in /Users/dogukanince/miniforge3/envs/test_env/lib/python3.12/site-packages (0.2.1)\n",
      "Requirement already satisfied: groq<1,>=0.4.1 in /Users/dogukanince/miniforge3/envs/test_env/lib/python3.12/site-packages (from langchain_groq) (0.12.0)\n",
      "Requirement already satisfied: langchain-core<0.4.0,>=0.3.15 in /Users/dogukanince/miniforge3/envs/test_env/lib/python3.12/site-packages (from langchain_groq) (0.3.21)\n",
      "Requirement already satisfied: anyio<5,>=3.5.0 in /Users/dogukanince/miniforge3/envs/test_env/lib/python3.12/site-packages (from groq<1,>=0.4.1->langchain_groq) (4.3.0)\n",
      "Requirement already satisfied: distro<2,>=1.7.0 in /Users/dogukanince/miniforge3/envs/test_env/lib/python3.12/site-packages (from groq<1,>=0.4.1->langchain_groq) (1.9.0)\n",
      "Requirement already satisfied: httpx<1,>=0.23.0 in /Users/dogukanince/miniforge3/envs/test_env/lib/python3.12/site-packages (from groq<1,>=0.4.1->langchain_groq) (0.27.0)\n",
      "Requirement already satisfied: pydantic<3,>=1.9.0 in /Users/dogukanince/miniforge3/envs/test_env/lib/python3.12/site-packages (from groq<1,>=0.4.1->langchain_groq) (2.7.0)\n",
      "Requirement already satisfied: sniffio in /Users/dogukanince/miniforge3/envs/test_env/lib/python3.12/site-packages (from groq<1,>=0.4.1->langchain_groq) (1.3.1)\n",
      "Requirement already satisfied: typing-extensions<5,>=4.7 in /Users/dogukanince/miniforge3/envs/test_env/lib/python3.12/site-packages (from groq<1,>=0.4.1->langchain_groq) (4.9.0)\n",
      "Requirement already satisfied: PyYAML>=5.3 in /Users/dogukanince/miniforge3/envs/test_env/lib/python3.12/site-packages (from langchain-core<0.4.0,>=0.3.15->langchain_groq) (6.0.1)\n",
      "Requirement already satisfied: jsonpatch<2.0,>=1.33 in /Users/dogukanince/miniforge3/envs/test_env/lib/python3.12/site-packages (from langchain-core<0.4.0,>=0.3.15->langchain_groq) (1.33)\n",
      "Requirement already satisfied: langsmith<0.2.0,>=0.1.125 in /Users/dogukanince/miniforge3/envs/test_env/lib/python3.12/site-packages (from langchain-core<0.4.0,>=0.3.15->langchain_groq) (0.1.147)\n",
      "Requirement already satisfied: packaging<25,>=23.2 in /Users/dogukanince/miniforge3/envs/test_env/lib/python3.12/site-packages (from langchain-core<0.4.0,>=0.3.15->langchain_groq) (23.2)\n",
      "Requirement already satisfied: tenacity!=8.4.0,<10.0.0,>=8.1.0 in /Users/dogukanince/miniforge3/envs/test_env/lib/python3.12/site-packages (from langchain-core<0.4.0,>=0.3.15->langchain_groq) (8.2.3)\n",
      "Requirement already satisfied: idna>=2.8 in /Users/dogukanince/miniforge3/envs/test_env/lib/python3.12/site-packages (from anyio<5,>=3.5.0->groq<1,>=0.4.1->langchain_groq) (3.4)\n",
      "Requirement already satisfied: certifi in /Users/dogukanince/miniforge3/envs/test_env/lib/python3.12/site-packages (from httpx<1,>=0.23.0->groq<1,>=0.4.1->langchain_groq) (2024.2.2)\n",
      "Requirement already satisfied: httpcore==1.* in /Users/dogukanince/miniforge3/envs/test_env/lib/python3.12/site-packages (from httpx<1,>=0.23.0->groq<1,>=0.4.1->langchain_groq) (1.0.5)\n",
      "Requirement already satisfied: h11<0.15,>=0.13 in /Users/dogukanince/miniforge3/envs/test_env/lib/python3.12/site-packages (from httpcore==1.*->httpx<1,>=0.23.0->groq<1,>=0.4.1->langchain_groq) (0.14.0)\n",
      "Requirement already satisfied: jsonpointer>=1.9 in /Users/dogukanince/miniforge3/envs/test_env/lib/python3.12/site-packages (from jsonpatch<2.0,>=1.33->langchain-core<0.4.0,>=0.3.15->langchain_groq) (2.4)\n",
      "Requirement already satisfied: orjson<4.0.0,>=3.9.14 in /Users/dogukanince/miniforge3/envs/test_env/lib/python3.12/site-packages (from langsmith<0.2.0,>=0.1.125->langchain-core<0.4.0,>=0.3.15->langchain_groq) (3.10.1)\n",
      "Requirement already satisfied: requests<3,>=2 in /Users/dogukanince/miniforge3/envs/test_env/lib/python3.12/site-packages (from langsmith<0.2.0,>=0.1.125->langchain-core<0.4.0,>=0.3.15->langchain_groq) (2.31.0)\n",
      "Requirement already satisfied: requests-toolbelt<2.0.0,>=1.0.0 in /Users/dogukanince/miniforge3/envs/test_env/lib/python3.12/site-packages (from langsmith<0.2.0,>=0.1.125->langchain-core<0.4.0,>=0.3.15->langchain_groq) (1.0.0)\n",
      "Requirement already satisfied: annotated-types>=0.4.0 in /Users/dogukanince/miniforge3/envs/test_env/lib/python3.12/site-packages (from pydantic<3,>=1.9.0->groq<1,>=0.4.1->langchain_groq) (0.6.0)\n",
      "Requirement already satisfied: pydantic-core==2.18.1 in /Users/dogukanince/miniforge3/envs/test_env/lib/python3.12/site-packages (from pydantic<3,>=1.9.0->groq<1,>=0.4.1->langchain_groq) (2.18.1)\n",
      "Requirement already satisfied: charset-normalizer<4,>=2 in /Users/dogukanince/miniforge3/envs/test_env/lib/python3.12/site-packages (from requests<3,>=2->langsmith<0.2.0,>=0.1.125->langchain-core<0.4.0,>=0.3.15->langchain_groq) (2.0.4)\n",
      "Requirement already satisfied: urllib3<3,>=1.21.1 in /Users/dogukanince/miniforge3/envs/test_env/lib/python3.12/site-packages (from requests<3,>=2->langsmith<0.2.0,>=0.1.125->langchain-core<0.4.0,>=0.3.15->langchain_groq) (2.1.0)\n"
     ]
    }
   ],
   "source": [
    "!pip install langchain_groq"
   ]
  },
  {
   "cell_type": "code",
   "execution_count": null,
   "metadata": {},
   "outputs": [
    {
     "ename": "ImportError",
     "evalue": "cannot import name 'LangSmithParams' from 'langchain_core.language_models.chat_models' (/Users/dogukanince/miniforge3/envs/test_env/lib/python3.12/site-packages/langchain_core/language_models/chat_models.py)",
     "output_type": "error",
     "traceback": [
      "\u001b[0;31m---------------------------------------------------------------------------\u001b[0m",
      "\u001b[0;31mImportError\u001b[0m                               Traceback (most recent call last)",
      "Cell \u001b[0;32mIn[30], line 1\u001b[0m\n\u001b[0;32m----> 1\u001b[0m \u001b[38;5;28;01mfrom\u001b[39;00m \u001b[38;5;21;01mlangchain_groq\u001b[39;00m \u001b[38;5;28;01mimport\u001b[39;00m ChatGroq\n\u001b[1;32m      3\u001b[0m groq_api_key \u001b[38;5;241m=\u001b[39m \u001b[38;5;124m\"\u001b[39m\u001b[38;5;124mgsk_JpLDurd7fSJkFs4MK6AZWGdyb3FYJXmF8z2EI31bPpnzawQLyBld\u001b[39m\u001b[38;5;124m\"\u001b[39m \u001b[38;5;66;03m#TODO : Replace with your own API key\u001b[39;00m\n\u001b[1;32m      5\u001b[0m groq_prompt \u001b[38;5;241m=\u001b[39m ChatGroq(\n\u001b[1;32m      6\u001b[0m     groq_api_key\u001b[38;5;241m=\u001b[39mgroq_api_key,\n\u001b[1;32m      7\u001b[0m     suffix\u001b[38;5;241m=\u001b[39m\u001b[38;5;124m\"\u001b[39m\u001b[38;5;124mWhat is the capital of \u001b[39m\u001b[38;5;132;01m{country}\u001b[39;00m\u001b[38;5;124m?\u001b[39m\u001b[38;5;124m\"\u001b[39m,\n\u001b[1;32m      8\u001b[0m     input_variables\u001b[38;5;241m=\u001b[39m[\u001b[38;5;124m\"\u001b[39m\u001b[38;5;124mcountry\u001b[39m\u001b[38;5;124m\"\u001b[39m],\n\u001b[1;32m      9\u001b[0m )\n",
      "File \u001b[0;32m~/miniforge3/envs/test_env/lib/python3.12/site-packages/langchain_groq/__init__.py:1\u001b[0m\n\u001b[0;32m----> 1\u001b[0m \u001b[38;5;28;01mfrom\u001b[39;00m \u001b[38;5;21;01mlangchain_groq\u001b[39;00m\u001b[38;5;21;01m.\u001b[39;00m\u001b[38;5;21;01mchat_models\u001b[39;00m \u001b[38;5;28;01mimport\u001b[39;00m ChatGroq\n\u001b[1;32m      3\u001b[0m __all__ \u001b[38;5;241m=\u001b[39m [\u001b[38;5;124m\"\u001b[39m\u001b[38;5;124mChatGroq\u001b[39m\u001b[38;5;124m\"\u001b[39m]\n",
      "File \u001b[0;32m~/miniforge3/envs/test_env/lib/python3.12/site-packages/langchain_groq/chat_models.py:32\u001b[0m\n\u001b[1;32m     27\u001b[0m \u001b[38;5;28;01mfrom\u001b[39;00m \u001b[38;5;21;01mlangchain_core\u001b[39;00m\u001b[38;5;21;01m.\u001b[39;00m\u001b[38;5;21;01mcallbacks\u001b[39;00m \u001b[38;5;28;01mimport\u001b[39;00m (\n\u001b[1;32m     28\u001b[0m     AsyncCallbackManagerForLLMRun,\n\u001b[1;32m     29\u001b[0m     CallbackManagerForLLMRun,\n\u001b[1;32m     30\u001b[0m )\n\u001b[1;32m     31\u001b[0m \u001b[38;5;28;01mfrom\u001b[39;00m \u001b[38;5;21;01mlangchain_core\u001b[39;00m\u001b[38;5;21;01m.\u001b[39;00m\u001b[38;5;21;01mlanguage_models\u001b[39;00m \u001b[38;5;28;01mimport\u001b[39;00m LanguageModelInput\n\u001b[0;32m---> 32\u001b[0m \u001b[38;5;28;01mfrom\u001b[39;00m \u001b[38;5;21;01mlangchain_core\u001b[39;00m\u001b[38;5;21;01m.\u001b[39;00m\u001b[38;5;21;01mlanguage_models\u001b[39;00m\u001b[38;5;21;01m.\u001b[39;00m\u001b[38;5;21;01mchat_models\u001b[39;00m \u001b[38;5;28;01mimport\u001b[39;00m (\n\u001b[1;32m     33\u001b[0m     BaseChatModel,\n\u001b[1;32m     34\u001b[0m     LangSmithParams,\n\u001b[1;32m     35\u001b[0m     agenerate_from_stream,\n\u001b[1;32m     36\u001b[0m     generate_from_stream,\n\u001b[1;32m     37\u001b[0m )\n\u001b[1;32m     38\u001b[0m \u001b[38;5;28;01mfrom\u001b[39;00m \u001b[38;5;21;01mlangchain_core\u001b[39;00m\u001b[38;5;21;01m.\u001b[39;00m\u001b[38;5;21;01mmessages\u001b[39;00m \u001b[38;5;28;01mimport\u001b[39;00m (\n\u001b[1;32m     39\u001b[0m     AIMessage,\n\u001b[1;32m     40\u001b[0m     AIMessageChunk,\n\u001b[0;32m   (...)\u001b[0m\n\u001b[1;32m     54\u001b[0m     ToolMessageChunk,\n\u001b[1;32m     55\u001b[0m )\n\u001b[1;32m     56\u001b[0m \u001b[38;5;28;01mfrom\u001b[39;00m \u001b[38;5;21;01mlangchain_core\u001b[39;00m\u001b[38;5;21;01m.\u001b[39;00m\u001b[38;5;21;01moutput_parsers\u001b[39;00m \u001b[38;5;28;01mimport\u001b[39;00m (\n\u001b[1;32m     57\u001b[0m     JsonOutputParser,\n\u001b[1;32m     58\u001b[0m     PydanticOutputParser,\n\u001b[1;32m     59\u001b[0m )\n",
      "\u001b[0;31mImportError\u001b[0m: cannot import name 'LangSmithParams' from 'langchain_core.language_models.chat_models' (/Users/dogukanince/miniforge3/envs/test_env/lib/python3.12/site-packages/langchain_core/language_models/chat_models.py)"
     ]
    }
   ],
   "source": [
    "%pip install langchain-groq\n",
    "\n",
    "from langchain_groq import ChatGroq\n",
    "\n",
    "groq_api_key = \"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\" #TODO : Replace with your own API key\n",
    "\n",
    "groq_prompt = ChatGroq(\n",
    "    groq_api_key=groq_api_key,\n",
    "    suffix=\"What is the capital of {country}?\",\n",
    "    input_variables=[\"country\"],\n",
    ")\n",
    "\n",
    "chain = groq_prompt | prompt     \n",
    "chain.invoke({\"country\": \"France\"})"
   ]
  }
 ],
 "metadata": {
  "kernelspec": {
   "display_name": "test_env",
   "language": "python",
   "name": "python3"
  },
  "language_info": {
   "codemirror_mode": {
    "name": "ipython",
    "version": 3
   },
   "file_extension": ".py",
   "mimetype": "text/x-python",
   "name": "python",
   "nbconvert_exporter": "python",
   "pygments_lexer": "ipython3",
   "version": "3.12.2"
  }
 },
 "nbformat": 4,
 "nbformat_minor": 2
}
