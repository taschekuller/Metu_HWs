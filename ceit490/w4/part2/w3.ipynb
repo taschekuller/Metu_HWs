{
 "cells": [
  {
   "cell_type": "code",
   "execution_count": 6,
   "id": "initial_id",
   "metadata": {
    "ExecuteTime": {
     "end_time": "2024-10-24T04:47:43.420050Z",
     "start_time": "2024-10-24T04:47:43.405026Z"
    },
    "collapsed": true
   },
   "outputs": [
    {
     "name": "stdout",
     "output_type": "stream",
     "text": [
      "Requirement already satisfied: torchmetrics in /Users/dogukanince/miniforge3/lib/python3.10/site-packages (1.5.1)\n",
      "Requirement already satisfied: numpy<2.0,>1.20.0 in /Users/dogukanince/miniforge3/lib/python3.10/site-packages (from torchmetrics) (1.26.4)\n",
      "Requirement already satisfied: packaging>17.1 in /Users/dogukanince/miniforge3/lib/python3.10/site-packages (from torchmetrics) (23.2)\n",
      "Requirement already satisfied: torch>=1.10.0 in /Users/dogukanince/miniforge3/lib/python3.10/site-packages (from torchmetrics) (2.4.1)\n",
      "Requirement already satisfied: lightning-utilities>=0.8.0 in /Users/dogukanince/miniforge3/lib/python3.10/site-packages (from torchmetrics) (0.11.8)\n",
      "Requirement already satisfied: setuptools in /Users/dogukanince/miniforge3/lib/python3.10/site-packages (from lightning-utilities>=0.8.0->torchmetrics) (68.2.2)\n",
      "Requirement already satisfied: typing-extensions in /Users/dogukanince/miniforge3/lib/python3.10/site-packages (from lightning-utilities>=0.8.0->torchmetrics) (4.12.2)\n",
      "Requirement already satisfied: filelock in /Users/dogukanince/miniforge3/lib/python3.10/site-packages (from torch>=1.10.0->torchmetrics) (3.15.4)\n",
      "Requirement already satisfied: sympy in /Users/dogukanince/miniforge3/lib/python3.10/site-packages (from torch>=1.10.0->torchmetrics) (1.13.2)\n",
      "Requirement already satisfied: networkx in /Users/dogukanince/miniforge3/lib/python3.10/site-packages (from torch>=1.10.0->torchmetrics) (3.3)\n",
      "Requirement already satisfied: jinja2 in /Users/dogukanince/miniforge3/lib/python3.10/site-packages (from torch>=1.10.0->torchmetrics) (3.1.4)\n",
      "Requirement already satisfied: fsspec in /Users/dogukanince/miniforge3/lib/python3.10/site-packages (from torch>=1.10.0->torchmetrics) (2024.6.1)\n",
      "Requirement already satisfied: MarkupSafe>=2.0 in /Users/dogukanince/miniforge3/lib/python3.10/site-packages (from jinja2->torch>=1.10.0->torchmetrics) (2.1.5)\n",
      "Requirement already satisfied: mpmath<1.4,>=1.1.0 in /Users/dogukanince/miniforge3/lib/python3.10/site-packages (from sympy->torch>=1.10.0->torchmetrics) (1.3.0)\n"
     ]
    }
   ],
   "source": [
    "!pip install torchmetrics\n",
    "import torchmetrics\n",
    "from torch.utils.data import Dataset\n",
    "import torch\n",
    "import pandas as pd"
   ]
  },
  {
   "cell_type": "markdown",
   "id": "21222c43b031df4a",
   "metadata": {},
   "source": [
    "# Example Simple Neural Network [Optional Example]"
   ]
  },
  {
   "cell_type": "markdown",
   "id": "f5547506fc1c6e68",
   "metadata": {},
   "source": [
    "###  This is an additional example. You can skip to Convolutional Neural Network below. \n",
    "### Check the M2 Notebook for a detailed example of simple neural networks"
   ]
  },
  {
   "cell_type": "code",
   "execution_count": 7,
   "id": "a75a4bd61a3fac17",
   "metadata": {
    "ExecuteTime": {
     "end_time": "2024-10-24T04:47:11.355097Z",
     "start_time": "2024-10-24T04:47:11.344390Z"
    }
   },
   "outputs": [],
   "source": [
    "class WaterDataset(Dataset): # inherits the Dataset class from torch\n",
    "    def __init__(self, csv_path):\n",
    "        super().__init__() # initializes the constructor of the base class Dataset\n",
    "        df = pd.read_csv(csv_path)\n",
    "        self.data = df.to_numpy().astype('float32')\n",
    "    def __len__(self):\n",
    "        return self.data.shape[0] # return the size of the dataset\n",
    "    def __getitem__(self, idx): # to select a specific row in the data based on index (idx)\n",
    "        features = self.data[idx, :-1] # selects everything except the last colum, which is the label.\n",
    "        label = self.data[idx, -1] # selects the last column\n",
    "        return features, label # returns the features and label as a tuple"
   ]
  },
  {
   "cell_type": "code",
   "execution_count": 8,
   "id": "15dad192cf26921c",
   "metadata": {
    "ExecuteTime": {
     "end_time": "2024-10-24T01:51:27.468562Z",
     "start_time": "2024-10-24T01:51:27.433076Z"
    }
   },
   "outputs": [],
   "source": [
    "dataset_train = WaterDataset(\n",
    "    \"./water_potability/water_train.csv\"\n",
    ")"
   ]
  },
  {
   "cell_type": "code",
   "execution_count": 9,
   "id": "ee6c9990e4d7e7cb",
   "metadata": {
    "ExecuteTime": {
     "end_time": "2024-10-24T01:51:27.965860Z",
     "start_time": "2024-10-24T01:51:27.957836Z"
    }
   },
   "outputs": [],
   "source": [
    "from torch.utils.data import DataLoader\n",
    "\n",
    "dataloader_train = DataLoader(\n",
    "    dataset_train,\n",
    "    batch_size=2,\n",
    "    shuffle=True\n",
    ")\n"
   ]
  },
  {
   "cell_type": "code",
   "execution_count": 10,
   "id": "b3412f145a8a9cbe",
   "metadata": {
    "ExecuteTime": {
     "end_time": "2024-10-24T01:51:29.074878Z",
     "start_time": "2024-10-24T01:51:29.051370Z"
    }
   },
   "outputs": [
    {
     "name": "stdout",
     "output_type": "stream",
     "text": [
      "FeaturesL: tensor([[0.5223, 0.5710, 0.3230, 0.4548, 0.6447, 0.5836, 0.3985, 0.3154, 0.7877],\n",
      "        [0.1995, 0.3021, 0.3028, 0.0944, 0.7504, 0.3150, 0.4272, 0.5877, 0.2636]]), \n",
      "Labels: tensor([1., 1.])\n"
     ]
    }
   ],
   "source": [
    "features, labels = next(iter(dataloader_train)) # dataloader_train as a container holding many batches of data. iter() gives you a handle to start going through this container, and next() is like saying \"give me the next batch\".\n",
    "\n",
    "\n",
    "print(f\"FeaturesL: {features}, \\nLabels: {labels}\")"
   ]
  },
  {
   "cell_type": "code",
   "execution_count": 11,
   "id": "1c65fa236b1cb139",
   "metadata": {
    "ExecuteTime": {
     "end_time": "2024-10-24T01:51:29.747519Z",
     "start_time": "2024-10-24T01:51:29.737434Z"
    }
   },
   "outputs": [],
   "source": [
    "from torch import nn\n",
    "import torch.nn.functional as F\n",
    "class Net(nn.Module):\n",
    "    def __init__(self):\n",
    "        super(Net, self).__init__()\n",
    "        self.fc1 = nn.Linear(9,16)\n",
    "        self.fc2 = nn.Linear(16,8)\n",
    "        self.fc3 = nn.Linear(8,1)\n",
    "    def forward(self, x):\n",
    "        x = F.relu(self.fc1(x))\n",
    "        x = F.relu(self.fc2(x))\n",
    "        x = F.sigmoid(self.fc3(x))\n",
    "        return x\n",
    "\n",
    "net = Net()        "
   ]
  },
  {
   "cell_type": "code",
   "execution_count": 12,
   "id": "96cb46ea3f772c3f",
   "metadata": {
    "ExecuteTime": {
     "end_time": "2024-10-24T01:51:32.541324Z",
     "start_time": "2024-10-24T01:51:32.532011Z"
    }
   },
   "outputs": [
    {
     "data": {
      "text/plain": [
       "torch.float32"
      ]
     },
     "execution_count": 12,
     "metadata": {},
     "output_type": "execute_result"
    }
   ],
   "source": [
    "features.dtype"
   ]
  },
  {
   "cell_type": "code",
   "execution_count": 13,
   "id": "d1c9efc9f25b8fe7",
   "metadata": {
    "ExecuteTime": {
     "end_time": "2024-10-24T01:52:18.273454Z",
     "start_time": "2024-10-24T01:51:33.157247Z"
    }
   },
   "outputs": [],
   "source": [
    "import torch.nn as nn\n",
    "import torch.optim as optim\n",
    "\n",
    "criterion = nn.BCELoss()\n",
    "optimizer = optim.Adam(net.parameters(), lr=0.01)\n",
    "\n",
    "net.train()\n",
    "for epoch in range(10):\n",
    "    for features, labels in dataloader_train:\n",
    "        optimizer.zero_grad()\n",
    "        outputs = net(features)\n",
    "        outputs = outputs.squeeze(1)  # Remove the extra dimension\n",
    "        loss= criterion(outputs, labels)\n",
    "        loss.backward()\n",
    "        optimizer.step()"
   ]
  },
  {
   "cell_type": "code",
   "execution_count": 14,
   "id": "6b809c52abf18768",
   "metadata": {
    "ExecuteTime": {
     "end_time": "2024-10-24T01:52:18.631361Z",
     "start_time": "2024-10-24T01:52:18.284839Z"
    }
   },
   "outputs": [
    {
     "name": "stdout",
     "output_type": "stream",
     "text": [
      "Accuracy: 0.5988063812255859\n"
     ]
    }
   ],
   "source": [
    "from torchmetrics import Accuracy\n",
    "acc = Accuracy(\"binary\")\n",
    "\n",
    "net.eval()\n",
    "\n",
    "with torch.no_grad():\n",
    "    for features, labels in dataloader_train:\n",
    "        outputs = net(features)\n",
    "        preds = (outputs > 0.5).float()\n",
    "        acc(preds, labels.view(-1,1))\n",
    "        \n",
    "accuracy = acc.compute()\n",
    "print(f\"Accuracy: {accuracy}\")"
   ]
  },
  {
   "cell_type": "markdown",
   "id": "110c1ba12600bc25",
   "metadata": {},
   "source": [
    "# Convolutional Neural Network"
   ]
  },
  {
   "cell_type": "markdown",
   "id": "7795ecc1223fe8ea",
   "metadata": {},
   "source": [
    "### Loading images to PyTorch"
   ]
  },
  {
   "cell_type": "code",
   "execution_count": 15,
   "id": "b011228a3ad928b1",
   "metadata": {
    "ExecuteTime": {
     "end_time": "2024-10-22T02:59:38.808269Z",
     "start_time": "2024-10-22T02:59:38.780229Z"
    }
   },
   "outputs": [],
   "source": [
    "from torchvision import transforms\n",
    "from torchvision.datasets import ImageFolder\n",
    "\n",
    "train_transforms = transforms.Compose([ # to chain multiple image transformations together.  It takes a list of transformations as input and applies them sequentially.\n",
    "    transforms.RandomHorizontalFlip(),\n",
    "    transforms.RandomRotation(45),\n",
    "    transforms.Resize((128,128)), # This transformation resizes the input image to a fixed size of 128x128 pixels.  Resizing images to a consistent size is crucial because many neural networks expect input images to have the same dimensions.\n",
    "    transforms.ToTensor(), # converts Image into a PyTorch tensor. This conversion also typically scales the pixel values from the range [0, 255] to [0, 1], which is often beneficial for model training.\n",
    "\n",
    "])\n",
    "\n",
    "dataset_train = ImageFolder(\n",
    "    \"clouds/clouds_train\",\n",
    "    transform = train_transforms\n",
    ")"
   ]
  },
  {
   "cell_type": "code",
   "execution_count": 16,
   "id": "7c8583f66647d7ea",
   "metadata": {
    "ExecuteTime": {
     "end_time": "2024-10-22T02:59:38.964907Z",
     "start_time": "2024-10-22T02:59:38.944987Z"
    }
   },
   "outputs": [
    {
     "name": "stdout",
     "output_type": "stream",
     "text": [
      "torch.Size([1, 3, 128, 128])\n"
     ]
    }
   ],
   "source": [
    "dataloader_train = DataLoader(\n",
    "    dataset_train,\n",
    "    shuffle=True,\n",
    "    batch_size=1\n",
    ")\n",
    "\n",
    "image, label = next(iter(dataloader_train))\n",
    "print(image.shape)"
   ]
  },
  {
   "cell_type": "code",
   "execution_count": 17,
   "id": "4793a6a57c0d8c83",
   "metadata": {
    "ExecuteTime": {
     "end_time": "2024-10-22T02:59:39.638700Z",
     "start_time": "2024-10-22T02:59:39.521129Z"
    }
   },
   "outputs": [
    {
     "name": "stdout",
     "output_type": "stream",
     "text": [
      "torch.Size([128, 128, 3])\n"
     ]
    },
    {
     "data": {
      "image/png": "[encoded data removed]",
      "text/plain": [
       "<Figure size 640x480 with 1 Axes>"
      ]
     },
     "metadata": {},
     "output_type": "display_data"
    }
   ],
   "source": [
    "image= image.squeeze().permute(1,2,0)\n",
    "print(image.shape)\n",
    "\n",
    "import matplotlib.pyplot as plt\n",
    "plt.imshow(image)\n",
    "plt.show()"
   ]
  },
  {
   "cell_type": "markdown",
   "id": "b8a103cacfb7e58",
   "metadata": {},
   "source": [
    "### Building the neural network"
   ]
  },
  {
   "cell_type": "code",
   "execution_count": 18,
   "id": "390e8496cc942960",
   "metadata": {
    "ExecuteTime": {
     "end_time": "2024-10-22T02:53:39.009305Z",
     "start_time": "2024-10-22T02:53:38.992693Z"
    }
   },
   "outputs": [],
   "source": [
    "class Net(nn.Module):\n",
    "    def __init__(self,num_classes):\n",
    "        super().__init__()\n",
    "        self.feature_extractor = nn.Sequential( # This creates a sequential container that holds a series of layers. The input data will pass through these layers in the order they are defined.\n",
    "\n",
    "            #!!! Add a 2D convolutional layer using the nn.Conv2d function. The parameter values are given in the description.\n",
    "            # This is a 2D convolutional layer, the core building block of many computer vision models. It applies a set of learnable filters to the input image to extract features like edges, corners, and textures.\n",
    "                 # - in_channels=3:  The input image has 3 channels (likely RGB - red, green, blue).\n",
    "                 # - out_channels=32: This layer produces 32 feature maps (or channels) as output.\n",
    "                 # - kernel_size=3: Each filter is a 3x3 square.\n",
    "                 # - padding=1:  Padding adds a border of pixels around the input to ensure the output size is the same as the input.\n",
    "                 \n",
    "            nn.Conv2d(in_channels=3, out_channels=32, kernel_size=3, padding=1), \n",
    "            \n",
    "            #!!! Call the ELU function from  nn\n",
    "            #This is an Exponential Linear Unit activation function. It introduces non-linearity to the model, allowing it to learn more complex patterns.\n",
    "            nn.ELU(),\n",
    "        \n",
    "            #!!! Use the MaxPool2d function from nn, with kernel size of 2 for downsampling.\n",
    "            # This is a 2D max pooling layer. It downsamples the feature maps by taking the maximum value within each 2x2 window. This reduces the spatial dimensions of the feature maps, making the network more robust to variations in the input and reducing the computational cost.\n",
    "            nn.MaxPool2d(kernel_size=2),\n",
    "\n",
    "            #!!! Add a 2D convolutional layer \n",
    "            \n",
    "            # This is another convolutional layer, similar to the first one. However, it takes the 32 feature maps from the previous layer as input and produces 64 feature maps as output. Uses the same kernel size and padding. \n",
    "             # This allows the network to learn hierarchical features, where the second layer builds upon the features extracted by the first layer, capturing more complex patterns.\n",
    "            nn.Conv2d(in_channels=32, out_channels=64, kernel_size=3, padding=1),\n",
    "            \n",
    "            #!!! Add another ELU activitaion function\n",
    "             #  Another ELU activation function to introduce non-linearity after the second convolutional layer.\n",
    "            nn.ELU(),\n",
    "\n",
    "            #!!! Do one more pooling \n",
    "             # Another max pooling layer to downsample the feature maps further.\n",
    "            nn.MaxPool2d(kernel_size=2),\n",
    "            \n",
    "            \n",
    "            nn.Flatten() # This layer flattens the multi-dimensional feature maps into a single vector. This is necessary to connect the convolutional layers (which operate on spatial data) to the fully connected layers (which operate on vectors).\n",
    "        )\n",
    "        \n",
    "        self.classifier = nn.Linear(in_features=64*32*32, out_features=num_classes) # This line of code creates a linear layer, which is also known as a fully connected layer, and assigns it to the self.classifier attribute of your neural network model. This layer is a crucial component in your network as it's responsible for taking the extracted features from the previous layers and performing the final classification.\n",
    "        \n",
    "        # in_features=64*32*32: This specifies the number of input features to the linear layer. In your case, it's calculated as 64 * 32 * 32. This number comes from the output shape of the previous layer (nn.Flatten()). After the convolutional layers and pooling operations, the nn.Flatten() layer transforms the multi-dimensional feature maps into a single vector with 64 * 32 * 32 elements.\n",
    "        \n",
    "        # out_features=num_classes: This specifies the number of output features from the linear layer. This is the same as the number of classes you want your network to predict. For example, if you're classifying images into 10 categories (like digits 0-9), num_classes would be 10.\n",
    "        \n",
    "        \n",
    "    def forward(self, x):\n",
    "        #!!! Call the feature_extracter method of the self. Pass x as the parameter. Assign the output back to x, that means x =...\n",
    "        # Remember that feature_extractor is a sequence of convolutional layers, activation functions, and pooling layers. These layers work together to extract relevant features from the input data, such as edges, textures, and shapes.\n",
    "        x = self.feature_extractor(x)\n",
    "        \n",
    "        #!!! Use the classifier of the self, passing x as the parameter. Assign the output back to x, that means x = ...\n",
    "        # This line takes the output from the feature_extractor (which is now a flattened vector of features) and passes it through the classifier component. The classifier is a linear layer (fully connected layer) that maps the extracted features to the desired output classes.  It essentially makes predictions based on the learned features.\n",
    "        x = self.classifier(x)\n",
    "        return x\n",
    "    \n",
    "        # In essence, the forward method defines the flow of data through the network:\n",
    "        #   * Feature Extraction: The input data is processed by a series of convolutional layers to extract meaningful features.\n",
    "        #   * Classification: The extracted features are then fed into a linear layer to make predictions about the input's class.\n"
   ]
  },
  {
   "cell_type": "markdown",
   "id": "eeca715578101f93",
   "metadata": {},
   "source": [
    "### Training loop"
   ]
  },
  {
   "cell_type": "code",
   "execution_count": 19,
   "id": "15eac9798964d4d",
   "metadata": {
    "ExecuteTime": {
     "end_time": "2024-10-22T02:55:13.825015Z",
     "start_time": "2024-10-22T02:53:39.172270Z"
    }
   },
   "outputs": [
    {
     "name": "stdout",
     "output_type": "stream",
     "text": [
      "Epoch 1, Loss: 2.4639\n",
      "Epoch 2, Loss: 1.9577\n",
      "Epoch 3, Loss: 2.0067\n",
      "Epoch 4, Loss: 1.6712\n",
      "Epoch 5, Loss: 3.3146\n",
      "Epoch 6, Loss: 1.4332\n",
      "Epoch 7, Loss: 1.3638\n",
      "Epoch 8, Loss: 1.5312\n",
      "Epoch 9, Loss: 1.4749\n",
      "Epoch 10, Loss: 3.2429\n"
     ]
    }
   ],
   "source": [
    "net = Net(num_classes=7) # This line creates an instance of the neural network (Net). We're passing num_classes=7 to specify that the network should output predictions for 7 different classes.\n",
    "\n",
    "criterion = nn.CrossEntropyLoss() #  This defines the loss function used to train the network. nn.CrossEntropyLoss() is commonly used for multi-class classification problems. It calculates the difference between the predicted probability distribution and the true label. Importantly, it combines the softmax function (to convert raw scores into probabilities) and the negative log-likelihood loss into a single, efficient operation.\n",
    "\n",
    "optimizer = optim.Adam(net.parameters(), lr=0.001) # This creates an Adam optimizer to update the network's parameters during training.\n",
    "\n",
    "for epoch in range(10): # This loop iterates over 10 training epochs.\n",
    "    \n",
    "    running_loss = 0.0 # This initializes a variable to keep track of the total loss within each epoch.\n",
    "    \n",
    "    for images, labels in dataloader_train: # This inner loop iterates over the batches of data provided by your dataloader_train.\n",
    "        \n",
    "        #!!! Call the zero_grad method of the optimizer\n",
    "        # This clears the gradients from the previous iteration.\n",
    "        optimizer.zero_grad()\n",
    "        \n",
    "        #!!! Pass the input to the net object to obtain the results and assign them to outputs variable. \n",
    "        # This passes the input images to the network to get the predictions (outputs). These outputs are often called \"logits\" and represent raw scores for each class before being converted into probabilities.\n",
    "        outputs = net(images)\n",
    "        \n",
    "        #!!! Apply criterion function which receives outputs and labels as parameters. Assign the outcome to the loss variable.\n",
    "        # This calculates the loss between the network's predictions (outputs) and the true labels (labels) using the CrossEntropyLoss function.\n",
    "        loss = criterion(outputs, labels)\n",
    "        \n",
    "        # Call the backward method of the loss function \n",
    "        # This performs backpropagation, calculating the gradients of the loss with respect to the network's parameters.\n",
    "        loss.backward()\n",
    "        \n",
    "        #!!! Call the step function of the optimizer\n",
    "        # This updates the network's parameters based on the calculated gradients to minimize the loss.\n",
    "        optimizer.step()\n",
    "        \n",
    "        running_loss += loss.item() # This adds the loss value of the current batch to the running_loss.\n",
    "\n",
    "    epoch_loss = running_loss / len(dataloader_train) # This calculates the average loss for the epoch.\n",
    "    \n",
    "    print(f\"Epoch {epoch+1}, Loss: {epoch_loss:.4f}\")\n",
    "        "
   ]
  },
  {
   "cell_type": "markdown",
   "id": "4d94604bece5c76d",
   "metadata": {},
   "source": [
    "### Evaluation loop"
   ]
  },
  {
   "cell_type": "code",
   "execution_count": 20,
   "id": "b1dbc3797addfa6e",
   "metadata": {
    "ExecuteTime": {
     "end_time": "2024-10-22T02:55:13.871201Z",
     "start_time": "2024-10-22T02:55:13.832012Z"
    }
   },
   "outputs": [],
   "source": [
    "test_transforms = transforms.Compose([\n",
    "    #\n",
    "    # No Data Augmentation at test time\n",
    "    #\n",
    "    transforms.Resize((128,128)),\n",
    "    transforms.ToTensor()\n",
    "])\n",
    "\n",
    "dataset_test = ImageFolder(\n",
    "    \"clouds/clouds_test\",\n",
    "    transform=test_transforms\n",
    ")\n",
    "\n",
    "dataloader_test = DataLoader(\n",
    "    dataset_test,\n",
    "    shuffle=True,\n",
    "    batch_size=1\n",
    ")"
   ]
  },
  {
   "cell_type": "code",
   "execution_count": 21,
   "id": "a657df62a4177961",
   "metadata": {
    "ExecuteTime": {
     "end_time": "2024-10-22T02:55:22.450470Z",
     "start_time": "2024-10-22T02:55:13.904749Z"
    }
   },
   "outputs": [
    {
     "name": "stdout",
     "output_type": "stream",
     "text": [
      "Precision: 0.2690209746360779, \n",
      "Recall: 0.25917017459869385\n"
     ]
    }
   ],
   "source": [
    "from torchmetrics import Precision, Recall\n",
    "\n",
    "metric_precision = Precision(\n",
    "    task=\"multiclass\", num_classes=7, average=\"macro\"\n",
    ")\n",
    "\n",
    "metric_recall = Recall(\n",
    "    task=\"multiclass\", num_classes=7, average=\"macro\"\n",
    ")\n",
    "\n",
    "net.eval()\n",
    "with torch.no_grad():\n",
    "    for images, labels in dataloader_test:\n",
    "        \n",
    "        outputs = net(images)\n",
    "        \n",
    "        _, preds = torch.max(outputs, 1) # This finds the maximum value along dimension 1 of the outputs tensor. Dimension 1 corresponds to the different classes in your model. It returns two values: the maximum values themselves and their indices. We're interested in the indices, which represent the predicted class labels. The underscore _ is used to discard the maximum values, as we only need the preds. \n",
    "        \n",
    "        #!!! call metric_precision function passing preds and labels as parameters.\n",
    "        # stores the calculated precision values for each batch during the iteration through the test data.\n",
    "        metric_precision(preds, labels)\n",
    "        \n",
    "        \n",
    "\n",
    "        #!!! call metric_recall function passing preds and labels as parameters.\n",
    "        # similarly this  calculates precision for a single batch, ALSO it keeps track of the necessary information across all batches\n",
    "        metric_recall(preds, labels)\n",
    "\n",
    "precision = metric_precision.compute()\n",
    "recall = metric_recall.compute()\n",
    "\n",
    "print(f\"Precision: {precision}, \\nRecall: {recall}\")\n",
    "        "
   ]
  },
  {
   "cell_type": "code",
   "execution_count": 22,
   "id": "384a6a7fb3612ce",
   "metadata": {
    "ExecuteTime": {
     "end_time": "2024-10-22T02:55:22.528206Z",
     "start_time": "2024-10-22T02:55:22.518652Z"
    }
   },
   "outputs": [
    {
     "data": {
      "text/plain": [
       "(tensor([9.6036]),\n",
       " tensor([3]),\n",
       " tensor([[  3.6637, -27.7305,  -6.6893,   9.6036,   4.6864,   6.7768,  -7.3377]]))"
      ]
     },
     "execution_count": 22,
     "metadata": {},
     "output_type": "execute_result"
    }
   ],
   "source": [
    "_, preds, outputs"
   ]
  },
  {
   "cell_type": "markdown",
   "id": "5da3aa4e4ba3a2cf",
   "metadata": {},
   "source": [
    "### Analyzing the performance per class"
   ]
  },
  {
   "cell_type": "code",
   "execution_count": 23,
   "id": "2e6d97fe8e336d2b",
   "metadata": {
    "ExecuteTime": {
     "end_time": "2024-10-22T02:56:56.680404Z",
     "start_time": "2024-10-22T02:56:49.692963Z"
    }
   },
   "outputs": [
    {
     "name": "stdout",
     "output_type": "stream",
     "text": [
      "tensor([0.2479, 0.0000, 0.5000, 0.2943, 0.7500, 0.0909, 0.0000])\n"
     ]
    }
   ],
   "source": [
    "# Define precision metric\n",
    "metric_precision = Precision(\n",
    "    task=\"multiclass\", num_classes=7, average=None\n",
    ")\n",
    "\n",
    "net.eval()\n",
    "with torch.no_grad():\n",
    "    for images, labels in dataloader_test:\n",
    "        outputs = net(images)\n",
    "        _, preds = torch.max(outputs, 1)\n",
    "        metric_precision(preds, labels)\n",
    "precision = metric_precision.compute()\n",
    "\n",
    "print(precision)"
   ]
  },
  {
   "cell_type": "code",
   "execution_count": 24,
   "id": "7c42d5ce3fbedd9f",
   "metadata": {
    "ExecuteTime": {
     "end_time": "2024-10-22T02:58:05.841306Z",
     "start_time": "2024-10-22T02:58:05.828016Z"
    }
   },
   "outputs": [
    {
     "data": {
      "text/plain": [
       "dict_items([('cirriform clouds', 0), ('clear sky', 1), ('cumulonimbus clouds', 2), ('cumulus clouds', 3), ('high cumuliform clouds', 4), ('stratiform clouds', 5), ('stratocumulus clouds', 6)])"
      ]
     },
     "execution_count": 24,
     "metadata": {},
     "output_type": "execute_result"
    }
   ],
   "source": [
    "dataset_test.class_to_idx.items()"
   ]
  },
  {
   "cell_type": "code",
   "execution_count": 25,
   "id": "c4d376c9e93cbe5e",
   "metadata": {
    "ExecuteTime": {
     "end_time": "2024-10-22T02:58:41.682289Z",
     "start_time": "2024-10-22T02:58:41.676289Z"
    }
   },
   "outputs": [
    {
     "name": "stdout",
     "output_type": "stream",
     "text": [
      "{'cirriform clouds': 0.24793387949466705, 'clear sky': 0.0, 'cumulonimbus clouds': 0.5, 'cumulus clouds': 0.2943038046360016, 'high cumuliform clouds': 0.75, 'stratiform clouds': 0.09090909361839294, 'stratocumulus clouds': 0.0}\n"
     ]
    }
   ],
   "source": [
    "# Get precision per class\n",
    "precision_per_class = {\n",
    "    k: precision[v].item() for k, v in dataset_test.class_to_idx.items()\n",
    "}\n",
    "print(precision_per_class)"
   ]
  },
  {
   "cell_type": "markdown",
   "id": "1af45615ef4366a5",
   "metadata": {},
   "source": []
  },
  {
   "cell_type": "markdown",
   "id": "4bc7fb8785578fa4",
   "metadata": {},
   "source": [
    "# Recurrent Neural Networks"
   ]
  },
  {
   "cell_type": "code",
   "execution_count": 26,
   "id": "3a135e5338562a7c",
   "metadata": {
    "ExecuteTime": {
     "end_time": "2024-10-24T01:50:27.234763Z",
     "start_time": "2024-10-24T01:50:27.223527Z"
    }
   },
   "outputs": [],
   "source": [
    "# Creating sequences in Python\n",
    "import numpy as np\n",
    "\n",
    "def create_sequences(df, seq_length):\n",
    "    xs, ys = [], []\n",
    "    for i in range(len(df) - seq_length):\n",
    "        x = df.iloc[i : (i + seq_length), 1] # This selects rows from i to i + seq_length - 1 (slicing) and the column at index 1.\n",
    "        y = df.iloc[i + seq_length, 1] # This selects the row at index i + seq_length and the column at index 1.\n",
    "        xs.append(x)\n",
    "        ys.append(y)\n",
    "    return np.array(xs), np.array(ys)"
   ]
  },
  {
   "cell_type": "code",
   "execution_count": 27,
   "id": "8d8c51b84bdba899",
   "metadata": {
    "ExecuteTime": {
     "end_time": "2024-10-24T02:50:53.680759Z",
     "start_time": "2024-10-24T02:50:53.408801Z"
    }
   },
   "outputs": [],
   "source": [
    "import pandas as pd\n",
    "\n",
    "train_data = pd.read_csv('electricity_consump/electricity_train.csv')[:2000] # Here we select the first 2000 rows to save time in training\n",
    "test_data = pd.read_csv('electricity_consump/electricity_test.csv')[:1000] # Here we select the first 1000 rows to save time in testing\n",
    "seq_length = 24 * 4 # 24 hours\n",
    "\n",
    "X_train, y_train = create_sequences(train_data, seq_length)\n",
    "X_test, y_test = create_sequences(test_data, seq_length)\n"
   ]
  },
  {
   "cell_type": "code",
   "execution_count": 28,
   "id": "ef3e6dc20b486e0f",
   "metadata": {
    "ExecuteTime": {
     "end_time": "2024-10-24T02:50:53.774006Z",
     "start_time": "2024-10-24T02:50:53.769010Z"
    }
   },
   "outputs": [
    {
     "name": "stdout",
     "output_type": "stream",
     "text": [
      "(1904, 96)\n",
      "(904, 96)\n"
     ]
    }
   ],
   "source": [
    "print(X_train.shape) # we have 105,119 training samples, and each sample is a sequence of length 96.\n",
    "print(X_test.shape) # 34,944 testing samples, each with a sequence length of 96."
   ]
  },
  {
   "cell_type": "code",
   "execution_count": 29,
   "id": "d34d5b3938bb8f00",
   "metadata": {
    "ExecuteTime": {
     "end_time": "2024-10-24T02:50:54.927866Z",
     "start_time": "2024-10-24T02:50:54.916793Z"
    }
   },
   "outputs": [],
   "source": [
    "from torch.utils.data import TensorDataset\n",
    "\n",
    "dataset_train = TensorDataset(\n",
    "    torch.from_numpy(X_train).float(), \n",
    "    torch.from_numpy(y_train).float()\n",
    ")\n",
    "\n",
    "dataset_test = TensorDataset(\n",
    "    torch.from_numpy(X_test).float(),\n",
    "    torch.from_numpy(y_test).float()\n",
    "    \n",
    ")\n",
    "\n",
    "dataloader_train = DataLoader(\n",
    "    dataset_train,\n",
    "    shuffle=True,\n",
    "    batch_size=2\n",
    ")\n",
    "\n",
    "dataloader_test = DataLoader(\n",
    "    dataset_test,\n",
    "    shuffle=True,\n",
    "    batch_size=2\n",
    ")\n"
   ]
  },
  {
   "cell_type": "code",
   "execution_count": 30,
   "id": "b352462c69be1d18",
   "metadata": {
    "ExecuteTime": {
     "end_time": "2024-10-24T02:50:55.903163Z",
     "start_time": "2024-10-24T02:50:55.890866Z"
    }
   },
   "outputs": [],
   "source": [
    "class Net(nn.Module): # This line defines a class called Net that inherits from nn.Module. In PyTorch, nn.Module is the base class for all neural network modules. This means our LSTMnet will be a building block for constructing larger neural networks.\n",
    "    def __init__(self):\n",
    "        super().__init__( ) # This line calls the constructor of the parent class (nn.Module) to initialize its properties.\n",
    "        \n",
    "        #!!! Define an RNN using nn.RNN function. It should have input_size, hidden_size, num_layers, and batch_first properly defined. Check the descriptions below to figure out the values for each of them.\n",
    "        self.rnn = nn.RNN( #  This is where we create the RNN layer.\n",
    "            input_size=1,\n",
    "            hidden_size=32,\n",
    "            num_layers=2,\n",
    "            batch_first=True\n",
    "\n",
    "\n",
    "             # Each input to the RNN will be a single value (a scalar).\n",
    "\n",
    "             #  The number of features in the hidden state of the RNN are 32. The hidden state is like the RNN's memory, and a larger size means it can remember more complex patterns.\n",
    "\n",
    "             #  This RNN has 2 layers stacked on top of each other. Stacking layers can help the RNN learn more complex patterns.\n",
    "\n",
    "             # The batch_first is true, which  means the input and output tensors will have the batch dimension first (batch_size, sequence_length, input_size). This is often preferred for efficiency.\n",
    "        )\n",
    "        \n",
    "        #!!! Create a linear layer using the nn.Linear method, the input feature size is 32, and output feature size is 1. Assign the layer to self.cc\n",
    "        # This creates a fully connected linear layer. This layer will take the output of the RNN and produce a single output value.\n",
    "        self.fc = nn.Linear(32, 1)\n",
    "    \n",
    "    def forward(self, x): # This is the forward pass function. It defines how the input data flows through the network.\n",
    "        \n",
    "        #!!! Create the hidden state variable h0, by caling the zeros function of the torch. Pass 2, x.size(0), and 32 as the parameters. Their explanations are given below.\n",
    "        # This initializes the initial hidden state (h0) of the RNN to zeros. The size is (num_layers, batch_size, hidden_size).\n",
    "        h0 = torch.zeros(x.size(0), 2, 32)\n",
    "        \n",
    "        out, _ = self.rnn(x, h0) # This passes the input x and the initial hidden state h0 to the RNN layer. The RNN processes the input sequence and produces an output out and the final hidden state. We ignore the final hidden state here using _. \n",
    "        #  In this line, x is your actual input sequence (e.g., a series of numbers, words encoded as numbers, etc.). The rnn function processes this input sequence step-by-step, using h0 as the initial memory.\n",
    "\n",
    "        # Inside the rnn function, the RNN cell repeatedly updates its hidden state as it processes each element of the input x. This updated hidden state captures the information from the sequence seen so far.\n",
    "        \n",
    "        out = self.fc(out[:, -1, :]) # This line extracts the output of the RNN at the last time step (out[:, -1, :]) and passes it to the fully connected layer (self.fc) to get the final output.\n",
    "        \n",
    "        # The out variable captures the output of the RNN at each time step. So, out will actually have the same length as your input sequence x.\n",
    "        \n",
    "        # out[:, -1, :] This line is important because it extracts only the last output from the RNN.  We often care most about the RNN's understanding of the entire sequence, which is reflected in the final output.\n",
    "        \n",
    "        # The self.fc (fully connected layer) acts as a final processing step. It takes the last output of the RNN (which is a vector of 32 values in this case) and transforms it into the desired output shape (a single value here). This allows the network to make a prediction or classification based on the entire input sequence.\n",
    "        \n",
    "        # That means it has two parts: \n",
    "        # It has two main parts:\n",
    "\n",
    "        # 1. The RNN network (self.rnn): This is the core of the model, responsible for processing the sequential data and capturing temporal dependencies. It does the heavy lifting of analyzing the input step-by-step and updating its hidden state to maintain a memory of the sequence. \n",
    "\n",
    "        # 2. The fully connected layer (self.fc): This layer acts as the output layer of the network. It takes the final hidden state of the RNN (which represents the RNN's understanding of the entire sequence) and maps it to the desired output.  Think of it as the \"decision-making\" part of the network, taking the RNN's knowledge and using it to make a prediction or classification.\n",
    "\n",
    "        # Why have both?\n",
    "        \n",
    "        # The RNN is great at handling sequences, but its output is often a complex representation that might not be directly suitable for the final task. The fully connected layer helps to simplify and tailor this output to the specific problem you're trying to solve.\n",
    "        \n",
    "        return out"
   ]
  },
  {
   "cell_type": "markdown",
   "id": "9faf58899a5b69b9",
   "metadata": {},
   "source": [
    "### LSTM Networks"
   ]
  },
  {
   "cell_type": "code",
   "execution_count": 31,
   "id": "d0afa32cc5e78a5c",
   "metadata": {
    "ExecuteTime": {
     "end_time": "2024-10-24T02:50:57.530504Z",
     "start_time": "2024-10-24T02:50:57.513598Z"
    }
   },
   "outputs": [],
   "source": [
    "class LSTMnet(nn.Module):\n",
    "    def __init__(self):\n",
    "        super().__init__()\n",
    "        # Define lstm layer\n",
    "        \n",
    "        #!!! Create an LSTM layer. The approach is very similar to creating RNN as you did above. \n",
    "        # This line creates an LSTM layer \n",
    "        # This means the LSTM layer expects an input sequence where each element has a size of 1 (e.g., a single value representing a time step in a time series).\n",
    "\n",
    "        # This sets the number of features in the hidden state of the LSTM to 32. The hidden state is the LSTM's memory, where it stores information from previous time steps.\n",
    "\n",
    "        # This creates an LSTM with 2 layers stacked on top of each other. Multiple layers can help the network learn more complex patterns.\n",
    "\n",
    "        # This indicates that the input data will have the batch dimension first, followed by the sequence length and input size (e.g., [batch_size, sequence_length, input_size]).\n",
    "        \n",
    "        \n",
    "        nn.LSTM(1, 32, 2, batch_first=True)\n",
    "\n",
    "        #!!! Create a linear layer using the nn.Linear method, the input feature size is 32, and output feature size is 1. Assign the layer to self.cc\n",
    "        # This layer takes the output of the LSTM (which has a size of 32) and maps it to a single output value.\n",
    "        nn.Linear(32,1)\n",
    "\n",
    "    def forward(self, x):\n",
    "        #!!! Create the hidden state variable h0, by caling the zeros function of the torch. Pass 2, x.size(0), and 32 as the parameters. Their explanations are given below.\n",
    "        # This line initializes the initial hidden state (h0) of the LSTM with zeros. It creates a tensor of zeros with dimensions:\n",
    "            # 2: Number of LSTM layers.\n",
    "            # x.size(0): Batch size of the input data.\n",
    "            # 32: Hidden size of the LSTM.\n",
    "        h0 = torch.zeros(2, x.size(0), 32)\n",
    "        \n",
    "        # !!! Create the hidden state variable c0, by caling the zeros function of the torch. Pass 2, x.size(0), and 32 as the parameters. Their explanations are given below. This is used for long term memory.\n",
    "        # This line initializes the initial cell state (c0) of the LSTM with zeros. The cell state is another type of memory in LSTMs that helps to preserve information over longer periods. The dimensions are the same as the hidden state.\n",
    "        c0 = torch.zeros(2, x.size(0), 32)\n",
    "        \n",
    "        # !!! Pass all inputs to lstm layer. One paramter is x, and the another parameter is the tuple of h0 and c0\n",
    "        # This line passes the input data (x) and the initial hidden and cell states (h0, c0) to the LSTM layer. The LSTM processes the input sequence step-by-step and updates its hidden and cell states accordingly. The output (out) contains the hidden state at each time step, and the _ discards the final cell state.\n",
    "        out, _ = self.lstm(x, (h0, c0))\n",
    "        # !!! As it is done in RNN, extract the hidden state from the last time step\n",
    "        # This line extracts the hidden state from the last time step (out[:, -1, :]) and passes it to the fully connected layer (self.fc) to generate the final output.\n",
    "        out = self.fc(out[:, -1, :])\n",
    "        # The code uses the last hidden state because it effectively summarizes the LSTM's processing of the entire input sequence and is often the most relevant information for generating the final output.\n",
    "        \n",
    "        \n",
    "        return out"
   ]
  },
  {
   "cell_type": "markdown",
   "id": "fb7a6fa3acf4e3dc",
   "metadata": {},
   "source": [
    "### GRU Networks"
   ]
  },
  {
   "cell_type": "code",
   "execution_count": 34,
   "id": "f22110c4828c561b",
   "metadata": {
    "ExecuteTime": {
     "end_time": "2024-10-24T02:50:59.315073Z",
     "start_time": "2024-10-24T02:50:59.295897Z"
    }
   },
   "outputs": [],
   "source": [
    "class GRUNet(nn.Module):\n",
    "    def __init__(self, input_size = 1):\n",
    "        super().__init__()\n",
    "        \n",
    "        #!!! Define GRU layer similar to the approach provided for LSTM layer above.\n",
    "        self.gru = nn.GRU(input_size, 32, 2, batch_first=True)\n",
    "        \n",
    "        #!!! Define the linear layer\n",
    "        self.fc = nn.Linear(32, 1)\n",
    "\n",
    "\n",
    "    def forward(self, x):\n",
    "        #!!! Create the hidden state variable h0, with the same parameters as in LSTM example\n",
    "        # Initializes the initial hidden state (h0) of the GRU with zeros.\n",
    "        h0 = torch.zeros(2, x.size(0), 32)\n",
    "\n",
    "        # Passes the input data x to the gru network. The parameters are x and h0.\n",
    "        # Passes the input data (x) and the initial hidden state (h0) to the GRU layer. The GRU processes the input sequence and updates its hidden state.  The output (out) contains the hidden state at each time step.\n",
    "        out, _ = self.gru(x, h0)\n",
    "        out = self.fc(out[:, -1, :]) # This is the same as in the LSTM code. It extracts the hidden state from the last time step and passes it to the fully connected layer to produce the final output.\n",
    "        \n",
    "        return out\n",
    "    \n",
    "# Key Differences from LSTM:\n",
    "\n",
    "    # * Simpler Architecture: GRUs have a simpler internal structure than LSTMs, with only two gates (reset and update gates) instead of three. This makes them computationally less expensive.\n",
    "    # * Hidden State: GRUs only have a hidden state, while LSTMs have both a hidden state and a cell state.\n",
    "    # * Performance: LSTMs and GRUs often achieve comparable performance, but GRUs can be faster to train due to their simpler architecture. The best choice depends on the specific task and dataset."
   ]
  },
  {
   "cell_type": "markdown",
   "id": "1cc7ec7e9cab32ea",
   "metadata": {},
   "source": [
    "### Training loop"
   ]
  },
  {
   "cell_type": "code",
   "execution_count": 36,
   "id": "ce89226512bbd3e8",
   "metadata": {
    "ExecuteTime": {
     "end_time": "2024-10-24T02:53:23.722989Z",
     "start_time": "2024-10-24T02:52:45.291294Z"
    }
   },
   "outputs": [],
   "source": [
    "net = GRUNet() # This line creates an instance of the GRU network.  GRUNet is a custom class  which contains the architecture of your GRU model \n",
    "\n",
    "criterion = nn.MSELoss() # This defines the loss function to be used during training.  nn.MSELoss() calculates the Mean Squared Error, commonly used for regression tasks where you're predicting a continuous value.\n",
    "\n",
    "optimizer = optim.Adam( #  This creates an Adam optimizer. Adam is a popular optimization algorithm that adapts the learning rate for each parameter.\n",
    "    net.parameters(), #  provides all the trainable parameters of your GRU network to the optimizer. \n",
    "    lr=0.001\n",
    ")\n",
    "\n",
    "for epoch in range(2): # This loop iterates over two training epochs. An epoch means one complete pass through your entire training dataset.\n",
    "    \n",
    "    for seqs, labels in dataloader_train: # This inner loop iterates over the batches of data provided by your dataloader_train.  A data loader helps efficiently feed data to your model during training.\n",
    "        \n",
    "        batch_size = seqs.shape[0]  # This line dynamically determines the batch size from the data loader. This is useful if your last batch has a different size than the others.\n",
    "        \n",
    "        seqs = seqs.view(batch_size, 96, 1)  # This reshapes your input sequences (seqs). The sequences have a length of 96 and a single feature. This reshaping prepares the data to be fed into the GRU network.\n",
    "        \n",
    "        #!!! Write the necessary statement to obtain the predictions and assign them to outputs variable.\n",
    "        # This is where you pass your input sequences to the GRU network (net) to get the predictions (outputs).\n",
    "        outputs = net(seqs)\n",
    "        \n",
    "        \n",
    "        #!!! Call the criterion with outputs and labels parameters. You have to apply unsqueeze(1) to the labels. Assign the outcome to the loss variable.\n",
    "        # This calculates the loss between your network's predictions (outputs) and the true labels (labels).  labels.unsqueeze(1)  adds an extra dimension to the labels to match the shape of the outputs.\n",
    "        loss = criterion(outputs, labels.unsqueeze(1))  # Compute loss\n",
    "        \n",
    "        #!!! Write necessary code to clear the gradients\n",
    "        # This clears the gradients from the previous iteration. \n",
    "        optimizer.zero_grad()\n",
    "        \n",
    "        #!!! Call the proper method of the loss function\n",
    "        # This performs backpropagation. It calculates the gradients of the loss with respect to the network's parameters.\n",
    "        loss.backward()\n",
    "\n",
    "        #!!! Call the proper method of the optimizer\n",
    "        # This updates the network's parameters based on the calculated gradients, aiming to minimize the loss.\n",
    "        optimizer.step()\n",
    "        "
   ]
  },
  {
   "cell_type": "markdown",
   "id": "4b80b49f98c232b5",
   "metadata": {},
   "source": [
    "### Evaluation Loop"
   ]
  },
  {
   "cell_type": "code",
   "execution_count": 37,
   "id": "fe4f77d27e029b2f",
   "metadata": {
    "ExecuteTime": {
     "end_time": "2024-10-24T02:52:21.316447Z",
     "start_time": "2024-10-24T02:52:19.446951Z"
    }
   },
   "outputs": [
    {
     "name": "stdout",
     "output_type": "stream",
     "text": [
      "Test MSE: 0.0769309401512146\n"
     ]
    }
   ],
   "source": [
    "mse = torchmetrics.MeanSquaredError() # This line creates an instance of the MeanSquaredError metric from the torchmetrics library. This object will be used to calculate the MSE between the network's predictions and the actual labels.\n",
    "\n",
    "#!!! Write the necessary code to set the network in the evaluation mode\n",
    "# This line sets your GRU network to evaluation mode. This is important because certain layers, like dropout, behave differently during training and evaluation.\n",
    "net.eval()\n",
    "\n",
    "\n",
    "with torch.no_grad(): # This context manager temporarily disables gradient calculations. This is crucial during evaluation because you don't need to update the network's weights anymore. It saves memory and speeds up computation.\n",
    "    \n",
    "    for seqs, labels in dataloader_test:\n",
    "        seqs = seqs.view(2, 96, 1) #  This line reshapes your input sequences (seqs) to have a batch size of 2, a sequence length of 96, and a single feature. This is necessary to match the expected input shape of your GRU network.\n",
    "        \n",
    "        # Pass seqs to net and squeeze the result\n",
    "        outputs = net(seqs).squeeze() # This line passes the input sequences (seqs) to your GRU network (net) to get the predictions (outputs).  .squeeze() removes any unnecessary dimensions from the output tensor.\n",
    "        \n",
    "        #!!! Call the mse with parameters outputs and labels\n",
    "        # This line updates the mse metric with the network's predictions (outputs) and the corresponding true labels (labels). The mse object internally accumulates the squared errors between the predictions and labels.\n",
    "        mse(outputs, labels)\n",
    "        \n",
    "#!!! Call the compute method of the mse\n",
    "#  This line calculates the final MSE value by averaging the accumulated squared errors.\n",
    "test_mse = mse.compute()\n",
    "\n",
    "print(f\"Test MSE: {test_mse}\")"
   ]
  },
  {
   "cell_type": "code",
   "execution_count": null,
   "id": "9003918a35974270",
   "metadata": {},
   "outputs": [],
   "source": []
  }
 ],
 "metadata": {
  "kernelspec": {
   "display_name": "base",
   "language": "python",
   "name": "python3"
  },
  "language_info": {
   "codemirror_mode": {
    "name": "ipython",
    "version": 3
   },
   "file_extension": ".py",
   "mimetype": "text/x-python",
   "name": "python",
   "nbconvert_exporter": "python",
   "pygments_lexer": "ipython3",
   "version": "3.10.13"
  }
 },
 "nbformat": 4,
 "nbformat_minor": 5
}
